{
  "nbformat": 4,
  "nbformat_minor": 0,
  "metadata": {
    "colab": {
      "name": "Artur.ipynb",
      "provenance": [],
      "collapsed_sections": [],
      "authorship_tag": "ABX9TyO9p12wYHT1GUT+MM+85gci",
      "include_colab_link": true
    },
    "kernelspec": {
      "name": "python3",
      "display_name": "Python 3"
    },
    "widgets": {
      "application/vnd.jupyter.widget-state+json": {
        "afc6164f88224605ab950815244a0b34": {
          "model_module": "@jupyter-widgets/controls",
          "model_name": "HBoxModel",
          "state": {
            "_view_name": "HBoxView",
            "_dom_classes": [],
            "_model_name": "HBoxModel",
            "_view_module": "@jupyter-widgets/controls",
            "_model_module_version": "1.5.0",
            "_view_count": null,
            "_view_module_version": "1.5.0",
            "box_style": "",
            "layout": "IPY_MODEL_264f3d6d45fa46dba6aeaacdf2a1ba22",
            "_model_module": "@jupyter-widgets/controls",
            "children": [
              "IPY_MODEL_5f5bfeef76f34e279d13a43b2d3c6a94",
              "IPY_MODEL_7044cbcca0a74f8b998cd3d8988485ce"
            ]
          }
        },
        "264f3d6d45fa46dba6aeaacdf2a1ba22": {
          "model_module": "@jupyter-widgets/base",
          "model_name": "LayoutModel",
          "state": {
            "_view_name": "LayoutView",
            "grid_template_rows": null,
            "right": null,
            "justify_content": null,
            "_view_module": "@jupyter-widgets/base",
            "overflow": null,
            "_model_module_version": "1.2.0",
            "_view_count": null,
            "flex_flow": null,
            "width": null,
            "min_width": null,
            "border": null,
            "align_items": null,
            "bottom": null,
            "_model_module": "@jupyter-widgets/base",
            "top": null,
            "grid_column": null,
            "overflow_y": null,
            "overflow_x": null,
            "grid_auto_flow": null,
            "grid_area": null,
            "grid_template_columns": null,
            "flex": null,
            "_model_name": "LayoutModel",
            "justify_items": null,
            "grid_row": null,
            "max_height": null,
            "align_content": null,
            "visibility": null,
            "align_self": null,
            "height": null,
            "min_height": null,
            "padding": null,
            "grid_auto_rows": null,
            "grid_gap": null,
            "max_width": null,
            "order": null,
            "_view_module_version": "1.2.0",
            "grid_template_areas": null,
            "object_position": null,
            "object_fit": null,
            "grid_auto_columns": null,
            "margin": null,
            "display": null,
            "left": null
          }
        },
        "5f5bfeef76f34e279d13a43b2d3c6a94": {
          "model_module": "@jupyter-widgets/controls",
          "model_name": "IntProgressModel",
          "state": {
            "_view_name": "ProgressView",
            "style": "IPY_MODEL_cd024172f8374b6a83ea081777450a23",
            "_dom_classes": [],
            "description": "",
            "_model_name": "IntProgressModel",
            "bar_style": "success",
            "max": 1,
            "_view_module": "@jupyter-widgets/controls",
            "_model_module_version": "1.5.0",
            "value": 1,
            "_view_count": null,
            "_view_module_version": "1.5.0",
            "orientation": "horizontal",
            "min": 0,
            "description_tooltip": null,
            "_model_module": "@jupyter-widgets/controls",
            "layout": "IPY_MODEL_e717a49fc193446f8d35d7c63dc03ec2"
          }
        },
        "7044cbcca0a74f8b998cd3d8988485ce": {
          "model_module": "@jupyter-widgets/controls",
          "model_name": "HTMLModel",
          "state": {
            "_view_name": "HTMLView",
            "style": "IPY_MODEL_ba755c0a702d4daca415593415d16880",
            "_dom_classes": [],
            "description": "",
            "_model_name": "HTMLModel",
            "placeholder": "​",
            "_view_module": "@jupyter-widgets/controls",
            "_model_module_version": "1.5.0",
            "value": "5it [00:02,  1.68it/s]",
            "_view_count": null,
            "_view_module_version": "1.5.0",
            "description_tooltip": null,
            "_model_module": "@jupyter-widgets/controls",
            "layout": "IPY_MODEL_5ab923f71d4a4751aabcd539128c1e2d"
          }
        },
        "cd024172f8374b6a83ea081777450a23": {
          "model_module": "@jupyter-widgets/controls",
          "model_name": "ProgressStyleModel",
          "state": {
            "_view_name": "StyleView",
            "_model_name": "ProgressStyleModel",
            "description_width": "",
            "_view_module": "@jupyter-widgets/base",
            "_model_module_version": "1.5.0",
            "_view_count": null,
            "_view_module_version": "1.2.0",
            "bar_color": null,
            "_model_module": "@jupyter-widgets/controls"
          }
        },
        "e717a49fc193446f8d35d7c63dc03ec2": {
          "model_module": "@jupyter-widgets/base",
          "model_name": "LayoutModel",
          "state": {
            "_view_name": "LayoutView",
            "grid_template_rows": null,
            "right": null,
            "justify_content": null,
            "_view_module": "@jupyter-widgets/base",
            "overflow": null,
            "_model_module_version": "1.2.0",
            "_view_count": null,
            "flex_flow": null,
            "width": null,
            "min_width": null,
            "border": null,
            "align_items": null,
            "bottom": null,
            "_model_module": "@jupyter-widgets/base",
            "top": null,
            "grid_column": null,
            "overflow_y": null,
            "overflow_x": null,
            "grid_auto_flow": null,
            "grid_area": null,
            "grid_template_columns": null,
            "flex": null,
            "_model_name": "LayoutModel",
            "justify_items": null,
            "grid_row": null,
            "max_height": null,
            "align_content": null,
            "visibility": null,
            "align_self": null,
            "height": null,
            "min_height": null,
            "padding": null,
            "grid_auto_rows": null,
            "grid_gap": null,
            "max_width": null,
            "order": null,
            "_view_module_version": "1.2.0",
            "grid_template_areas": null,
            "object_position": null,
            "object_fit": null,
            "grid_auto_columns": null,
            "margin": null,
            "display": null,
            "left": null
          }
        },
        "ba755c0a702d4daca415593415d16880": {
          "model_module": "@jupyter-widgets/controls",
          "model_name": "DescriptionStyleModel",
          "state": {
            "_view_name": "StyleView",
            "_model_name": "DescriptionStyleModel",
            "description_width": "",
            "_view_module": "@jupyter-widgets/base",
            "_model_module_version": "1.5.0",
            "_view_count": null,
            "_view_module_version": "1.2.0",
            "_model_module": "@jupyter-widgets/controls"
          }
        },
        "5ab923f71d4a4751aabcd539128c1e2d": {
          "model_module": "@jupyter-widgets/base",
          "model_name": "LayoutModel",
          "state": {
            "_view_name": "LayoutView",
            "grid_template_rows": null,
            "right": null,
            "justify_content": null,
            "_view_module": "@jupyter-widgets/base",
            "overflow": null,
            "_model_module_version": "1.2.0",
            "_view_count": null,
            "flex_flow": null,
            "width": null,
            "min_width": null,
            "border": null,
            "align_items": null,
            "bottom": null,
            "_model_module": "@jupyter-widgets/base",
            "top": null,
            "grid_column": null,
            "overflow_y": null,
            "overflow_x": null,
            "grid_auto_flow": null,
            "grid_area": null,
            "grid_template_columns": null,
            "flex": null,
            "_model_name": "LayoutModel",
            "justify_items": null,
            "grid_row": null,
            "max_height": null,
            "align_content": null,
            "visibility": null,
            "align_self": null,
            "height": null,
            "min_height": null,
            "padding": null,
            "grid_auto_rows": null,
            "grid_gap": null,
            "max_width": null,
            "order": null,
            "_view_module_version": "1.2.0",
            "grid_template_areas": null,
            "object_position": null,
            "object_fit": null,
            "grid_auto_columns": null,
            "margin": null,
            "display": null,
            "left": null
          }
        },
        "9a16b7ec506440eeb2aa30fbfbf294ab": {
          "model_module": "@jupyter-widgets/controls",
          "model_name": "HBoxModel",
          "state": {
            "_view_name": "HBoxView",
            "_dom_classes": [],
            "_model_name": "HBoxModel",
            "_view_module": "@jupyter-widgets/controls",
            "_model_module_version": "1.5.0",
            "_view_count": null,
            "_view_module_version": "1.5.0",
            "box_style": "",
            "layout": "IPY_MODEL_9b61f2aca60b497f921634831792cb88",
            "_model_module": "@jupyter-widgets/controls",
            "children": [
              "IPY_MODEL_93718193afcf4a98b05084d93ae1b23e",
              "IPY_MODEL_a9b06c2e847c481b9cce93ca3010361e"
            ]
          }
        },
        "9b61f2aca60b497f921634831792cb88": {
          "model_module": "@jupyter-widgets/base",
          "model_name": "LayoutModel",
          "state": {
            "_view_name": "LayoutView",
            "grid_template_rows": null,
            "right": null,
            "justify_content": null,
            "_view_module": "@jupyter-widgets/base",
            "overflow": null,
            "_model_module_version": "1.2.0",
            "_view_count": null,
            "flex_flow": null,
            "width": null,
            "min_width": null,
            "border": null,
            "align_items": null,
            "bottom": null,
            "_model_module": "@jupyter-widgets/base",
            "top": null,
            "grid_column": null,
            "overflow_y": null,
            "overflow_x": null,
            "grid_auto_flow": null,
            "grid_area": null,
            "grid_template_columns": null,
            "flex": null,
            "_model_name": "LayoutModel",
            "justify_items": null,
            "grid_row": null,
            "max_height": null,
            "align_content": null,
            "visibility": null,
            "align_self": null,
            "height": null,
            "min_height": null,
            "padding": null,
            "grid_auto_rows": null,
            "grid_gap": null,
            "max_width": null,
            "order": null,
            "_view_module_version": "1.2.0",
            "grid_template_areas": null,
            "object_position": null,
            "object_fit": null,
            "grid_auto_columns": null,
            "margin": null,
            "display": null,
            "left": null
          }
        },
        "93718193afcf4a98b05084d93ae1b23e": {
          "model_module": "@jupyter-widgets/controls",
          "model_name": "IntProgressModel",
          "state": {
            "_view_name": "ProgressView",
            "style": "IPY_MODEL_c1afb11b5377476e9073600487ae8a45",
            "_dom_classes": [],
            "description": "",
            "_model_name": "IntProgressModel",
            "bar_style": "success",
            "max": 1,
            "_view_module": "@jupyter-widgets/controls",
            "_model_module_version": "1.5.0",
            "value": 1,
            "_view_count": null,
            "_view_module_version": "1.5.0",
            "orientation": "horizontal",
            "min": 0,
            "description_tooltip": null,
            "_model_module": "@jupyter-widgets/controls",
            "layout": "IPY_MODEL_3067b001c713420e9deb86cf4f20dddd"
          }
        },
        "a9b06c2e847c481b9cce93ca3010361e": {
          "model_module": "@jupyter-widgets/controls",
          "model_name": "HTMLModel",
          "state": {
            "_view_name": "HTMLView",
            "style": "IPY_MODEL_263ec5adb74b47388a56ab2d0cc760c8",
            "_dom_classes": [],
            "description": "",
            "_model_name": "HTMLModel",
            "placeholder": "​",
            "_view_module": "@jupyter-widgets/controls",
            "_model_module_version": "1.5.0",
            "value": "5it [00:02,  1.71it/s]",
            "_view_count": null,
            "_view_module_version": "1.5.0",
            "description_tooltip": null,
            "_model_module": "@jupyter-widgets/controls",
            "layout": "IPY_MODEL_001cbf272afb4853acfc1bbc6ce11e99"
          }
        },
        "c1afb11b5377476e9073600487ae8a45": {
          "model_module": "@jupyter-widgets/controls",
          "model_name": "ProgressStyleModel",
          "state": {
            "_view_name": "StyleView",
            "_model_name": "ProgressStyleModel",
            "description_width": "",
            "_view_module": "@jupyter-widgets/base",
            "_model_module_version": "1.5.0",
            "_view_count": null,
            "_view_module_version": "1.2.0",
            "bar_color": null,
            "_model_module": "@jupyter-widgets/controls"
          }
        },
        "3067b001c713420e9deb86cf4f20dddd": {
          "model_module": "@jupyter-widgets/base",
          "model_name": "LayoutModel",
          "state": {
            "_view_name": "LayoutView",
            "grid_template_rows": null,
            "right": null,
            "justify_content": null,
            "_view_module": "@jupyter-widgets/base",
            "overflow": null,
            "_model_module_version": "1.2.0",
            "_view_count": null,
            "flex_flow": null,
            "width": null,
            "min_width": null,
            "border": null,
            "align_items": null,
            "bottom": null,
            "_model_module": "@jupyter-widgets/base",
            "top": null,
            "grid_column": null,
            "overflow_y": null,
            "overflow_x": null,
            "grid_auto_flow": null,
            "grid_area": null,
            "grid_template_columns": null,
            "flex": null,
            "_model_name": "LayoutModel",
            "justify_items": null,
            "grid_row": null,
            "max_height": null,
            "align_content": null,
            "visibility": null,
            "align_self": null,
            "height": null,
            "min_height": null,
            "padding": null,
            "grid_auto_rows": null,
            "grid_gap": null,
            "max_width": null,
            "order": null,
            "_view_module_version": "1.2.0",
            "grid_template_areas": null,
            "object_position": null,
            "object_fit": null,
            "grid_auto_columns": null,
            "margin": null,
            "display": null,
            "left": null
          }
        },
        "263ec5adb74b47388a56ab2d0cc760c8": {
          "model_module": "@jupyter-widgets/controls",
          "model_name": "DescriptionStyleModel",
          "state": {
            "_view_name": "StyleView",
            "_model_name": "DescriptionStyleModel",
            "description_width": "",
            "_view_module": "@jupyter-widgets/base",
            "_model_module_version": "1.5.0",
            "_view_count": null,
            "_view_module_version": "1.2.0",
            "_model_module": "@jupyter-widgets/controls"
          }
        },
        "001cbf272afb4853acfc1bbc6ce11e99": {
          "model_module": "@jupyter-widgets/base",
          "model_name": "LayoutModel",
          "state": {
            "_view_name": "LayoutView",
            "grid_template_rows": null,
            "right": null,
            "justify_content": null,
            "_view_module": "@jupyter-widgets/base",
            "overflow": null,
            "_model_module_version": "1.2.0",
            "_view_count": null,
            "flex_flow": null,
            "width": null,
            "min_width": null,
            "border": null,
            "align_items": null,
            "bottom": null,
            "_model_module": "@jupyter-widgets/base",
            "top": null,
            "grid_column": null,
            "overflow_y": null,
            "overflow_x": null,
            "grid_auto_flow": null,
            "grid_area": null,
            "grid_template_columns": null,
            "flex": null,
            "_model_name": "LayoutModel",
            "justify_items": null,
            "grid_row": null,
            "max_height": null,
            "align_content": null,
            "visibility": null,
            "align_self": null,
            "height": null,
            "min_height": null,
            "padding": null,
            "grid_auto_rows": null,
            "grid_gap": null,
            "max_width": null,
            "order": null,
            "_view_module_version": "1.2.0",
            "grid_template_areas": null,
            "object_position": null,
            "object_fit": null,
            "grid_auto_columns": null,
            "margin": null,
            "display": null,
            "left": null
          }
        }
      }
    }
  },
  "cells": [
    {
      "cell_type": "markdown",
      "metadata": {
        "id": "view-in-github",
        "colab_type": "text"
      },
      "source": [
        "<a href=\"https://colab.research.google.com/github/PushaBe/mlcourse.ai/blob/master/Artur.ipynb\" target=\"_parent\"><img src=\"https://colab.research.google.com/assets/colab-badge.svg\" alt=\"Open In Colab\"/></a>"
      ]
    },
    {
      "cell_type": "code",
      "metadata": {
        "id": "GoQUsg4IMkKt",
        "colab_type": "code",
        "outputId": "81578fbc-4650-4be3-a2a4-ce67d6898f89",
        "colab": {
          "base_uri": "https://localhost:8080/",
          "height": 54
        }
      },
      "source": [
        "from google.colab import drive\n",
        "drive.mount('/content/drive')"
      ],
      "execution_count": 0,
      "outputs": [
        {
          "output_type": "stream",
          "text": [
            "Drive already mounted at /content/drive; to attempt to forcibly remount, call drive.mount(\"/content/drive\", force_remount=True).\n"
          ],
          "name": "stdout"
        }
      ]
    },
    {
      "cell_type": "code",
      "metadata": {
        "id": "_dpMBE-c4Nyj",
        "colab_type": "code",
        "colab": {}
      },
      "source": [
        "import pandas as pd\n",
        "import numpy as np\n",
        "from tqdm import tqdm_notebook"
      ],
      "execution_count": 0,
      "outputs": []
    },
    {
      "cell_type": "code",
      "metadata": {
        "id": "B8x0bgCjNYVr",
        "colab_type": "code",
        "colab": {}
      },
      "source": [
        "def prepare_data(filename_input, filename_output):\n",
        "  data = pd.read_excel(f\"/content/drive/My Drive/{filename_input}\", sheet_name=1)\n",
        "  for i, col in enumerate([f\"Незавершенное строительство\\nтыс RUB\\n{i}\" for i in range(2019, 2010, -1)]):\n",
        "    data.insert(38+i, col, 0)\n",
        "  cols = data.columns[[1, 2, 3, 6, 9]]\n",
        "  pokaz = []\n",
        "  for i in range(5):\n",
        "    pokaz.append(data.columns[10 + i*14:10+(i+1)*14])\n",
        "  new_df = pd.DataFrame.from_records(np.concatenate([[x] * 14 for x in data[cols].values]), columns=cols)\n",
        "  new_df['Year'] = list(range(2019, 2005, -1)) * 10000\n",
        "  new_df['Capital'] = 0\n",
        "  new_df['Employment'] = 0\n",
        "  new_df['Building'] = 0\n",
        "  new_df['Materials'] = 0\n",
        "  new_df['Revenue'] = 0\n",
        "  for i, pok in enumerate(pokaz):\n",
        "    tmp = data[pok].T.values\n",
        "    new_pok = np.concatenate([tmp[:, x] for x in range(10000)])\n",
        "    new_df.iloc[:, -5 + i] = new_pok\n",
        "  new_df.to_csv(f\"/content/drive/My Drive/{filename_output}\")"
      ],
      "execution_count": 0,
      "outputs": []
    },
    {
      "cell_type": "code",
      "metadata": {
        "id": "Zovz4FfGQ4FS",
        "colab_type": "code",
        "outputId": "eab86cb8-b075-475e-d7a8-73dc95104076",
        "colab": {
          "base_uri": "https://localhost:8080/",
          "height": 66,
          "referenced_widgets": [
            "afc6164f88224605ab950815244a0b34",
            "264f3d6d45fa46dba6aeaacdf2a1ba22",
            "5f5bfeef76f34e279d13a43b2d3c6a94",
            "7044cbcca0a74f8b998cd3d8988485ce",
            "cd024172f8374b6a83ea081777450a23",
            "e717a49fc193446f8d35d7c63dc03ec2",
            "ba755c0a702d4daca415593415d16880",
            "5ab923f71d4a4751aabcd539128c1e2d"
          ]
        }
      },
      "source": [
        "for i in tqdm_notebook(range(1000)):\n",
        "  prepare_data(f\"{i}.xlsx\", f\"{i}.csv\")"
      ],
      "execution_count": 0,
      "outputs": [
        {
          "output_type": "display_data",
          "data": {
            "application/vnd.jupyter.widget-view+json": {
              "model_id": "afc6164f88224605ab950815244a0b34",
              "version_minor": 0,
              "version_major": 2
            },
            "text/plain": [
              "HBox(children=(IntProgress(value=1, bar_style='info', max=1), HTML(value='')))"
            ]
          },
          "metadata": {
            "tags": []
          }
        },
        {
          "output_type": "stream",
          "text": [
            "\n"
          ],
          "name": "stdout"
        }
      ]
    },
    {
      "cell_type": "code",
      "metadata": {
        "id": "orEbm0DtQ35A",
        "colab_type": "code",
        "colab": {}
      },
      "source": [
        ""
      ],
      "execution_count": 0,
      "outputs": []
    },
    {
      "cell_type": "code",
      "metadata": {
        "id": "2SH9KcxHRzDz",
        "colab_type": "code",
        "colab": {}
      },
      "source": [
        "new_df.replace('n.a.', np.nan, inplace=True)"
      ],
      "execution_count": 0,
      "outputs": []
    },
    {
      "cell_type": "code",
      "metadata": {
        "id": "ucuGSfIIR7Nu",
        "colab_type": "code",
        "outputId": "4583e5c6-e577-4af5-dc30-d90ebf6f872b",
        "colab": {
          "base_uri": "https://localhost:8080/",
          "height": 221
        }
      },
      "source": [
        "new_df.isnull().sum()"
      ],
      "execution_count": 0,
      "outputs": [
        {
          "output_type": "execute_result",
          "data": {
            "text/plain": [
              "Название компании                                       0\n",
              "Номер налогоплательщика (ИНН)                           0\n",
              "ОКВЭД 2014, основной код                                0\n",
              "NACE Rev. 2, основной код                               0\n",
              "Глобальные конечный собственник (ГКС) - Название    17430\n",
              "Year                                                    0\n",
              "Capital                                             51608\n",
              "Employment                                          50336\n",
              "Building                                            35726\n",
              "Materials                                           67608\n",
              "Revenue                                             50186\n",
              "dtype: int64"
            ]
          },
          "metadata": {
            "tags": []
          },
          "execution_count": 67
        }
      ]
    },
    {
      "cell_type": "code",
      "metadata": {
        "id": "ufm3wEheVBt0",
        "colab_type": "code",
        "outputId": "85142d36-431a-4d82-8bea-6db775dca6dd",
        "colab": {
          "base_uri": "https://localhost:8080/",
          "height": 952
        }
      },
      "source": [
        "i = 0\n",
        "for group_name, group_data in new_df.loc[(new_df.Year >= 2009) & (new_df.Year <= 2017)].groupby('Название компании'):\n",
        "  print(group_name)\n",
        "  print(group_data[['Year', 'Capital', 'Employment', 'Revenue']])\n",
        "  i+=1\n",
        "  if i == 5:\n",
        "    break"
      ],
      "execution_count": 0,
      "outputs": [
        {
          "output_type": "stream",
          "text": [
            "'TRADING COMPANY MIRATORG LIMITED LIABILITY COMPANY\n",
            "      Year   Capital  Employment     Revenue\n",
            "2480  2017  354076.0      1985.0  98806866.0\n",
            "2481  2016  268637.0      1976.0  97546524.0\n",
            "2482  2015   76165.0      1967.0  89434898.0\n",
            "2483  2014   69000.0      1956.0  68272965.0\n",
            "2484  2013   61299.0      1945.0  45183271.0\n",
            "2485  2012   57991.0      1936.0  41808795.0\n",
            "2486  2011   77955.0      1925.0  35401528.0\n",
            "2487  2010   77757.0      1914.0  30180761.0\n",
            "2488  2009       NaN         NaN         NaN\n",
            "1520 SIGNAL\n",
            "        Year  Capital  Employment    Revenue\n",
            "135088  2017  74745.0       291.0  2771238.0\n",
            "135089  2016  70044.0       346.0  4947392.0\n",
            "135090  2015  54049.0       359.0  8193078.0\n",
            "135091  2014  41717.0       342.0  3421574.0\n",
            "135092  2013  34252.0       329.0  1959776.0\n",
            "135093  2012  36704.0       338.0  1990485.0\n",
            "135094  2011  24548.0       327.0  1417844.0\n",
            "135095  2010  14649.0       312.0   677756.0\n",
            "135096  2009  10547.0       321.0   715636.0\n",
            "171 MERIDIAN\n",
            "       Year  Capital  Employment     Revenue\n",
            "11244  2017   5795.0        33.0  15720301.0\n",
            "11245  2016   4173.0        11.0   3398944.0\n",
            "11246  2015   4220.0         2.0   1991245.0\n",
            "11247  2014   4299.0         2.0   2516225.0\n",
            "11248  2013      NaN         NaN         NaN\n",
            "11249  2012      NaN         NaN         NaN\n",
            "11250  2011      NaN         NaN         NaN\n",
            "11251  2010      NaN         NaN         NaN\n",
            "11252  2009      NaN         NaN         NaN\n",
            "18 TSENTRALNYI NAUCHNO-ISSLEDOVATELSKII INSTITUT MINISTERSTVA OBORONY ROSSIISKOI FEDERATSII\n",
            "       Year   Capital  Employment     Revenue\n",
            "48876  2017  716776.0      1327.0   9792653.0\n",
            "48877  2016  753051.0      1316.0   8093315.0\n",
            "48878  2015  800898.0      1301.0   3875062.0\n",
            "48879  2014  844084.0      1312.0   5797823.0\n",
            "48880  2013  547608.0      1327.0  11273305.0\n",
            "48881  2012       NaN         NaN         NaN\n",
            "48882  2011       NaN         NaN         NaN\n",
            "48883  2010       NaN         NaN         NaN\n",
            "48884  2009       NaN         NaN         NaN\n",
            "1S-DISTRIBUTION\n",
            "       Year  Capital  Employment    Revenue\n",
            "48036  2017      0.0         8.0  4805065.0\n",
            "48037  2016      0.0       369.0  4324181.0\n",
            "48038  2015      0.0       380.0  5096911.0\n",
            "48039  2014      0.0       389.0  5594355.0\n",
            "48040  2013      0.0       380.0  5288785.0\n",
            "48041  2012      0.0       369.0  3635361.0\n",
            "48042  2011      0.0       358.0  3101015.0\n",
            "48043  2010      0.0       343.0  1601943.0\n",
            "48044  2009      0.0       332.0  1419750.0\n"
          ],
          "name": "stdout"
        }
      ]
    },
    {
      "cell_type": "code",
      "metadata": {
        "id": "soPUNJhmRwrw",
        "colab_type": "code",
        "outputId": "14c31d13-cf35-4741-edca-d9819f4a501c",
        "colab": {
          "base_uri": "https://localhost:8080/",
          "height": 1000
        }
      },
      "source": [
        "new_df.head(14)"
      ],
      "execution_count": 0,
      "outputs": [
        {
          "output_type": "execute_result",
          "data": {
            "text/html": [
              "<div>\n",
              "<style scoped>\n",
              "    .dataframe tbody tr th:only-of-type {\n",
              "        vertical-align: middle;\n",
              "    }\n",
              "\n",
              "    .dataframe tbody tr th {\n",
              "        vertical-align: top;\n",
              "    }\n",
              "\n",
              "    .dataframe thead th {\n",
              "        text-align: right;\n",
              "    }\n",
              "</style>\n",
              "<table border=\"1\" class=\"dataframe\">\n",
              "  <thead>\n",
              "    <tr style=\"text-align: right;\">\n",
              "      <th></th>\n",
              "      <th>Название компании</th>\n",
              "      <th>Номер налогоплательщика (ИНН)</th>\n",
              "      <th>ОКВЭД 2014, основной код</th>\n",
              "      <th>NACE Rev. 2, основной код</th>\n",
              "      <th>Глобальные конечный собственник (ГКС) - Название</th>\n",
              "      <th>Year</th>\n",
              "      <th>Capital</th>\n",
              "      <th>Employment</th>\n",
              "      <th>Building</th>\n",
              "      <th>Materials</th>\n",
              "      <th>Revenue</th>\n",
              "    </tr>\n",
              "  </thead>\n",
              "  <tbody>\n",
              "    <tr>\n",
              "      <th>0</th>\n",
              "      <td>JOINT-STOCK COMPANY VTB CAPITAL</td>\n",
              "      <td>7703585780</td>\n",
              "      <td>649920</td>\n",
              "      <td>K</td>\n",
              "      <td>GOVERNMENT OF THE RUSSIAN FEDERATION</td>\n",
              "      <td>2019</td>\n",
              "      <td>NaN</td>\n",
              "      <td>NaN</td>\n",
              "      <td>0.0</td>\n",
              "      <td>NaN</td>\n",
              "      <td>NaN</td>\n",
              "    </tr>\n",
              "    <tr>\n",
              "      <th>1</th>\n",
              "      <td>JOINT-STOCK COMPANY VTB CAPITAL</td>\n",
              "      <td>7703585780</td>\n",
              "      <td>649920</td>\n",
              "      <td>K</td>\n",
              "      <td>GOVERNMENT OF THE RUSSIAN FEDERATION</td>\n",
              "      <td>2018</td>\n",
              "      <td>NaN</td>\n",
              "      <td>NaN</td>\n",
              "      <td>0.0</td>\n",
              "      <td>NaN</td>\n",
              "      <td>NaN</td>\n",
              "    </tr>\n",
              "    <tr>\n",
              "      <th>2</th>\n",
              "      <td>JOINT-STOCK COMPANY VTB CAPITAL</td>\n",
              "      <td>7703585780</td>\n",
              "      <td>649920</td>\n",
              "      <td>K</td>\n",
              "      <td>GOVERNMENT OF THE RUSSIAN FEDERATION</td>\n",
              "      <td>2017</td>\n",
              "      <td>92018.0</td>\n",
              "      <td>464.0</td>\n",
              "      <td>0.0</td>\n",
              "      <td>2548589.0</td>\n",
              "      <td>3.914984e+10</td>\n",
              "    </tr>\n",
              "    <tr>\n",
              "      <th>3</th>\n",
              "      <td>JOINT-STOCK COMPANY VTB CAPITAL</td>\n",
              "      <td>7703585780</td>\n",
              "      <td>649920</td>\n",
              "      <td>K</td>\n",
              "      <td>GOVERNMENT OF THE RUSSIAN FEDERATION</td>\n",
              "      <td>2016</td>\n",
              "      <td>85368.0</td>\n",
              "      <td>473.0</td>\n",
              "      <td>0.0</td>\n",
              "      <td>2394020.0</td>\n",
              "      <td>2.420745e+10</td>\n",
              "    </tr>\n",
              "    <tr>\n",
              "      <th>4</th>\n",
              "      <td>JOINT-STOCK COMPANY VTB CAPITAL</td>\n",
              "      <td>7703585780</td>\n",
              "      <td>649920</td>\n",
              "      <td>K</td>\n",
              "      <td>GOVERNMENT OF THE RUSSIAN FEDERATION</td>\n",
              "      <td>2015</td>\n",
              "      <td>47890.0</td>\n",
              "      <td>462.0</td>\n",
              "      <td>0.0</td>\n",
              "      <td>3021304.0</td>\n",
              "      <td>1.554674e+10</td>\n",
              "    </tr>\n",
              "    <tr>\n",
              "      <th>5</th>\n",
              "      <td>JOINT-STOCK COMPANY VTB CAPITAL</td>\n",
              "      <td>7703585780</td>\n",
              "      <td>649920</td>\n",
              "      <td>K</td>\n",
              "      <td>GOVERNMENT OF THE RUSSIAN FEDERATION</td>\n",
              "      <td>2014</td>\n",
              "      <td>173204.0</td>\n",
              "      <td>520.0</td>\n",
              "      <td>0.0</td>\n",
              "      <td>1943328.0</td>\n",
              "      <td>1.090997e+10</td>\n",
              "    </tr>\n",
              "    <tr>\n",
              "      <th>6</th>\n",
              "      <td>JOINT-STOCK COMPANY VTB CAPITAL</td>\n",
              "      <td>7703585780</td>\n",
              "      <td>649920</td>\n",
              "      <td>K</td>\n",
              "      <td>GOVERNMENT OF THE RUSSIAN FEDERATION</td>\n",
              "      <td>2013</td>\n",
              "      <td>293508.0</td>\n",
              "      <td>632.0</td>\n",
              "      <td>0.0</td>\n",
              "      <td>2059536.0</td>\n",
              "      <td>1.544307e+10</td>\n",
              "    </tr>\n",
              "    <tr>\n",
              "      <th>7</th>\n",
              "      <td>JOINT-STOCK COMPANY VTB CAPITAL</td>\n",
              "      <td>7703585780</td>\n",
              "      <td>649920</td>\n",
              "      <td>K</td>\n",
              "      <td>GOVERNMENT OF THE RUSSIAN FEDERATION</td>\n",
              "      <td>2012</td>\n",
              "      <td>164694.0</td>\n",
              "      <td>546.0</td>\n",
              "      <td>0.0</td>\n",
              "      <td>NaN</td>\n",
              "      <td>1.007018e+10</td>\n",
              "    </tr>\n",
              "    <tr>\n",
              "      <th>8</th>\n",
              "      <td>JOINT-STOCK COMPANY VTB CAPITAL</td>\n",
              "      <td>7703585780</td>\n",
              "      <td>649920</td>\n",
              "      <td>K</td>\n",
              "      <td>GOVERNMENT OF THE RUSSIAN FEDERATION</td>\n",
              "      <td>2011</td>\n",
              "      <td>271485.0</td>\n",
              "      <td>589.0</td>\n",
              "      <td>0.0</td>\n",
              "      <td>2371320.0</td>\n",
              "      <td>8.318864e+09</td>\n",
              "    </tr>\n",
              "    <tr>\n",
              "      <th>9</th>\n",
              "      <td>JOINT-STOCK COMPANY VTB CAPITAL</td>\n",
              "      <td>7703585780</td>\n",
              "      <td>649920</td>\n",
              "      <td>K</td>\n",
              "      <td>GOVERNMENT OF THE RUSSIAN FEDERATION</td>\n",
              "      <td>2010</td>\n",
              "      <td>417281.0</td>\n",
              "      <td>612.0</td>\n",
              "      <td>0.0</td>\n",
              "      <td>1806426.0</td>\n",
              "      <td>6.190185e+09</td>\n",
              "    </tr>\n",
              "    <tr>\n",
              "      <th>10</th>\n",
              "      <td>JOINT-STOCK COMPANY VTB CAPITAL</td>\n",
              "      <td>7703585780</td>\n",
              "      <td>649920</td>\n",
              "      <td>K</td>\n",
              "      <td>GOVERNMENT OF THE RUSSIAN FEDERATION</td>\n",
              "      <td>2009</td>\n",
              "      <td>NaN</td>\n",
              "      <td>NaN</td>\n",
              "      <td>NaN</td>\n",
              "      <td>NaN</td>\n",
              "      <td>NaN</td>\n",
              "    </tr>\n",
              "    <tr>\n",
              "      <th>11</th>\n",
              "      <td>JOINT-STOCK COMPANY VTB CAPITAL</td>\n",
              "      <td>7703585780</td>\n",
              "      <td>649920</td>\n",
              "      <td>K</td>\n",
              "      <td>GOVERNMENT OF THE RUSSIAN FEDERATION</td>\n",
              "      <td>2008</td>\n",
              "      <td>NaN</td>\n",
              "      <td>NaN</td>\n",
              "      <td>NaN</td>\n",
              "      <td>NaN</td>\n",
              "      <td>NaN</td>\n",
              "    </tr>\n",
              "    <tr>\n",
              "      <th>12</th>\n",
              "      <td>JOINT-STOCK COMPANY VTB CAPITAL</td>\n",
              "      <td>7703585780</td>\n",
              "      <td>649920</td>\n",
              "      <td>K</td>\n",
              "      <td>GOVERNMENT OF THE RUSSIAN FEDERATION</td>\n",
              "      <td>2007</td>\n",
              "      <td>NaN</td>\n",
              "      <td>NaN</td>\n",
              "      <td>NaN</td>\n",
              "      <td>NaN</td>\n",
              "      <td>NaN</td>\n",
              "    </tr>\n",
              "    <tr>\n",
              "      <th>13</th>\n",
              "      <td>JOINT-STOCK COMPANY VTB CAPITAL</td>\n",
              "      <td>7703585780</td>\n",
              "      <td>649920</td>\n",
              "      <td>K</td>\n",
              "      <td>GOVERNMENT OF THE RUSSIAN FEDERATION</td>\n",
              "      <td>2006</td>\n",
              "      <td>0.0</td>\n",
              "      <td>2.0</td>\n",
              "      <td>0.0</td>\n",
              "      <td>NaN</td>\n",
              "      <td>0.000000e+00</td>\n",
              "    </tr>\n",
              "  </tbody>\n",
              "</table>\n",
              "</div>"
            ],
            "text/plain": [
              "                  Название компании  ...       Revenue\n",
              "0   JOINT-STOCK COMPANY VTB CAPITAL  ...           NaN\n",
              "1   JOINT-STOCK COMPANY VTB CAPITAL  ...           NaN\n",
              "2   JOINT-STOCK COMPANY VTB CAPITAL  ...  3.914984e+10\n",
              "3   JOINT-STOCK COMPANY VTB CAPITAL  ...  2.420745e+10\n",
              "4   JOINT-STOCK COMPANY VTB CAPITAL  ...  1.554674e+10\n",
              "5   JOINT-STOCK COMPANY VTB CAPITAL  ...  1.090997e+10\n",
              "6   JOINT-STOCK COMPANY VTB CAPITAL  ...  1.544307e+10\n",
              "7   JOINT-STOCK COMPANY VTB CAPITAL  ...  1.007018e+10\n",
              "8   JOINT-STOCK COMPANY VTB CAPITAL  ...  8.318864e+09\n",
              "9   JOINT-STOCK COMPANY VTB CAPITAL  ...  6.190185e+09\n",
              "10  JOINT-STOCK COMPANY VTB CAPITAL  ...           NaN\n",
              "11  JOINT-STOCK COMPANY VTB CAPITAL  ...           NaN\n",
              "12  JOINT-STOCK COMPANY VTB CAPITAL  ...           NaN\n",
              "13  JOINT-STOCK COMPANY VTB CAPITAL  ...  0.000000e+00\n",
              "\n",
              "[14 rows x 11 columns]"
            ]
          },
          "metadata": {
            "tags": []
          },
          "execution_count": 71
        }
      ]
    },
    {
      "cell_type": "markdown",
      "metadata": {
        "id": "vWvOUQWpMDaU",
        "colab_type": "text"
      },
      "source": [
        "**Reading data**"
      ]
    },
    {
      "cell_type": "code",
      "metadata": {
        "id": "L9jrTxtr4qlh",
        "colab_type": "code",
        "colab": {}
      },
      "source": [
        "data = pd.read_excel('/content/drive/My Drive/1.xlsx', sheet_name=1)"
      ],
      "execution_count": 0,
      "outputs": []
    },
    {
      "cell_type": "markdown",
      "metadata": {
        "id": "TfM_WXvaMGqE",
        "colab_type": "text"
      },
      "source": [
        "**Inserting additional fields**"
      ]
    },
    {
      "cell_type": "code",
      "metadata": {
        "id": "p7IFx_dLJaSy",
        "colab_type": "code",
        "colab": {}
      },
      "source": [
        "for i, col in enumerate([f\"Незавершенное строительство\\nтыс RUB\\n{i}\" for i in range(2019, 2010, -1)]):\n",
        "  data.insert(38+i, col, 0)"
      ],
      "execution_count": 0,
      "outputs": []
    },
    {
      "cell_type": "code",
      "metadata": {
        "id": "cKH3tSpM5Slr",
        "colab_type": "code",
        "colab": {}
      },
      "source": [
        "cols = data.columns[[1, 2, 3, 6, 9]]"
      ],
      "execution_count": 0,
      "outputs": []
    },
    {
      "cell_type": "markdown",
      "metadata": {
        "id": "K2yvsA3YMR2b",
        "colab_type": "text"
      },
      "source": [
        "**Выделяем нужные поля**"
      ]
    },
    {
      "cell_type": "code",
      "metadata": {
        "id": "_8EI_ZZZ5-mC",
        "colab_type": "code",
        "colab": {}
      },
      "source": [
        "pokaz = []\n",
        "for i in range(5):\n",
        "  pokaz.append(data.columns[10 + i*14:10+(i+1)*14])"
      ],
      "execution_count": 0,
      "outputs": []
    },
    {
      "cell_type": "markdown",
      "metadata": {
        "id": "M3udLtSGMViZ",
        "colab_type": "text"
      },
      "source": [
        "**Создаем сэмпл итогового датафрема**"
      ]
    },
    {
      "cell_type": "code",
      "metadata": {
        "id": "xkX9YRoK41av",
        "colab_type": "code",
        "colab": {}
      },
      "source": [
        "new_df = pd.DataFrame.from_records(np.concatenate([[x] * 14 for x in data[cols].values]), columns=cols)"
      ],
      "execution_count": 0,
      "outputs": []
    },
    {
      "cell_type": "code",
      "metadata": {
        "id": "kC6_vrsnALKt",
        "colab_type": "code",
        "colab": {}
      },
      "source": [
        "new_df['Year'] = list(range(2019, 2005, -1)) * 10000\n",
        "new_df['Capital'] = 0\n",
        "new_df['Employment'] = 0\n",
        "new_df['Building'] = 0\n",
        "new_df['Materials'] = 0\n",
        "new_df['Revenue'] = 0"
      ],
      "execution_count": 0,
      "outputs": []
    },
    {
      "cell_type": "markdown",
      "metadata": {
        "id": "RPVJ8mYpMbWN",
        "colab_type": "text"
      },
      "source": [
        "**Заполняем поля**"
      ]
    },
    {
      "cell_type": "code",
      "metadata": {
        "id": "5HBNzbAvFsL8",
        "colab_type": "code",
        "outputId": "6ae720ac-5abc-4f38-a4e7-f6468cdf6c33",
        "colab": {
          "base_uri": "https://localhost:8080/",
          "height": 66,
          "referenced_widgets": [
            "9a16b7ec506440eeb2aa30fbfbf294ab",
            "9b61f2aca60b497f921634831792cb88",
            "93718193afcf4a98b05084d93ae1b23e",
            "a9b06c2e847c481b9cce93ca3010361e",
            "c1afb11b5377476e9073600487ae8a45",
            "3067b001c713420e9deb86cf4f20dddd",
            "263ec5adb74b47388a56ab2d0cc760c8",
            "001cbf272afb4853acfc1bbc6ce11e99"
          ]
        }
      },
      "source": [
        "for i, pok in tqdm_notebook(enumerate(pokaz)):\n",
        "  tmp = data[pok].T.values\n",
        "  new_pok = np.concatenate([tmp[:, x] for x in range(10000)])\n",
        "  new_df.iloc[:, -5 + i] = new_pok"
      ],
      "execution_count": 0,
      "outputs": [
        {
          "output_type": "display_data",
          "data": {
            "application/vnd.jupyter.widget-view+json": {
              "model_id": "9a16b7ec506440eeb2aa30fbfbf294ab",
              "version_minor": 0,
              "version_major": 2
            },
            "text/plain": [
              "HBox(children=(IntProgress(value=1, bar_style='info', max=1), HTML(value='')))"
            ]
          },
          "metadata": {
            "tags": []
          }
        },
        {
          "output_type": "stream",
          "text": [
            "\n"
          ],
          "name": "stdout"
        }
      ]
    },
    {
      "cell_type": "code",
      "metadata": {
        "id": "JITMV2ygKYHQ",
        "colab_type": "code",
        "colab": {}
      },
      "source": [
        "new_df.to_csv('1.csv')"
      ],
      "execution_count": 0,
      "outputs": []
    }
  ]
}